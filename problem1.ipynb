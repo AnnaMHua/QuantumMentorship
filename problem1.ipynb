{
  "nbformat": 4,
  "nbformat_minor": 0,
  "metadata": {
    "colab": {
      "name": "problem1.ipynb",
      "provenance": [],
      "collapsed_sections": [],
      "include_colab_link": true
    },
    "kernelspec": {
      "display_name": "Python 3",
      "language": "python",
      "name": "python3"
    },
    "language_info": {
      "codemirror_mode": {
        "name": "ipython",
        "version": 3
      },
      "file_extension": ".py",
      "mimetype": "text/x-python",
      "name": "python",
      "nbconvert_exporter": "python",
      "pygments_lexer": "ipython3",
      "version": "3.6.9"
    }
  },
  "cells": [
    {
      "cell_type": "markdown",
      "metadata": {
        "id": "view-in-github",
        "colab_type": "text"
      },
      "source": [
        "<a href=\"https://colab.research.google.com/github/AnnaMHua/QuantumMentorship/blob/master/problem1.ipynb\" target=\"_parent\"><img src=\"https://colab.research.google.com/assets/colab-badge.svg\" alt=\"Open In Colab\"/></a>"
      ]
    },
    {
      "cell_type": "markdown",
      "metadata": {
        "colab_type": "text",
        "id": "d6hoR1hdxPZU"
      },
      "source": [
        "# Quantum Mentorship Problem 1\n",
        "In this report, we will study a certain type of parametrized quantum circuit. After optimizetion of the parameters $\\vec{\\theta}$ with respect to distance $\\left \\| |\\psi(\\theta)>-|\\phi>\\right\\|$ ,the output quantum state of this quantum circuit $|\\psi(\\theta)>$  will be able to mimic any given random quantum state $|\\phi>$. \n",
        "1. [Installing packages](#installation)\n",
        "2. [Quantum circuit setup](#setup)\n",
        "3. [Optimization of cost function](#optimization)\n",
        "4. [Try other parametrized gates](#bonus)\n",
        "5. [Try different entanglement](#entanglement)"
      ]
    },
    {
      "cell_type": "markdown",
      "metadata": {
        "id": "i7fOfXORc3Gq",
        "colab_type": "text"
      },
      "source": [
        "## 1.Installing necessary packages <a name=\"installation\"></a>\n",
        "This notebook requires several packages including [```Qiskit```](https://qiskit.org/), an open source software development kit for quantum computing. "
      ]
    },
    {
      "cell_type": "code",
      "metadata": {
        "colab_type": "code",
        "id": "w-B7psntM6fd",
        "colab": {}
      },
      "source": [
        "# Run this cell for packages' installation. The outputs will be cleared at the end.\n",
        "!pip install qiskit\n",
        "!pip install matplotlib\n",
        "from IPython.display import clear_output\n",
        "clear_output()"
      ],
      "execution_count": 1,
      "outputs": []
    },
    {
      "cell_type": "markdown",
      "metadata": {
        "colab_type": "text",
        "id": "En-8BqqN1gR1"
      },
      "source": [
        "## 2. Quantum circuit setup <a name=\"setup\"></a>\n",
        "We need to create a parametrized quantum circuit constructed by $L$ layers of odd and even quantum gates blocks.\n",
        "\n",
        "Buliding blocks of this quantum circuit:\n",
        "* 4 qbits, with $2^4$ degrees of freedom\n",
        "* Odd blocks: parametrized $R_x$ gates operate on each qbit\n",
        "\n",
        "* Even blocks: parametrized $R_z$ gates operate on each qbit, ```CZ``` gates operate on all qbit pairs to achieve full entanglement."
      ]
    },
    {
      "cell_type": "code",
      "metadata": {
        "colab_type": "code",
        "id": "aB_zrd6O_q1S",
        "colab": {
          "base_uri": "https://localhost:8080/",
          "height": 169
        },
        "outputId": "3aa2cbb7-a0ff-48d8-e9dd-c9d56bbefb44"
      },
      "source": [
        "# Use qiskit to build and simulate quantum circuit\n",
        "from qiskit import QuantumRegister, QuantumCircuit, quantum_info\n",
        "from qiskit.circuit import ParameterVector\n",
        "import numpy as np\n",
        "from math import pi\n",
        "from scipy.optimize import  minimize\n",
        "\n",
        "#generate a random tagert 4 qbits state\n",
        "target_state = quantum_info.random_statevector(2**4).data\n",
        "\n",
        "#build the even blocks of quantum gates\n",
        "def evengate(given_circuit, theta_list):\n",
        "\n",
        "    #operate parmetrized Rz gates on each qbit\n",
        "    for i in range(given_circuit.num_qubits):\n",
        "        given_circuit.rz(theta_list[i],i)\n",
        "    \n",
        "    #operate CZ gates on each pair of qbits\n",
        "    for i in range(given_circuit.num_qubits -1):\n",
        "        for j in range(i+1,given_circuit.num_qubits):\n",
        "            given_circuit.cz(i,j)\n",
        "\n",
        "    return given_circuit\n",
        "\n",
        "# visualize the random even block\n",
        "theta = ParameterVector('θ',length=4)\n",
        "print(\"Even Gate::\")\n",
        "evengate(QuantumCircuit(QuantumRegister(4)),theta).draw()"
      ],
      "execution_count": 2,
      "outputs": [
        {
          "output_type": "stream",
          "text": [
            "Even Gate::\n"
          ],
          "name": "stdout"
        },
        {
          "output_type": "execute_result",
          "data": {
            "text/html": [
              "<pre style=\"word-wrap: normal;white-space: pre;background: #fff0;line-height: 1.1;font-family: &quot;Courier New&quot;,Courier,monospace\">      ┌──────────┐                  \n",
              "q0_0: ┤ RZ(θ[0]) ├─■──■──■──────────\n",
              "      ├──────────┤ │  │  │          \n",
              "q0_1: ┤ RZ(θ[1]) ├─■──┼──┼──■──■────\n",
              "      ├──────────┤    │  │  │  │    \n",
              "q0_2: ┤ RZ(θ[2]) ├────■──┼──■──┼──■─\n",
              "      ├──────────┤       │     │  │ \n",
              "q0_3: ┤ RZ(θ[3]) ├───────■─────■──■─\n",
              "      └──────────┘                  </pre>"
            ],
            "text/plain": [
              "      ┌──────────┐                  \n",
              "q0_0: ┤ RZ(θ[0]) ├─■──■──■──────────\n",
              "      ├──────────┤ │  │  │          \n",
              "q0_1: ┤ RZ(θ[1]) ├─■──┼──┼──■──■────\n",
              "      ├──────────┤    │  │  │  │    \n",
              "q0_2: ┤ RZ(θ[2]) ├────■──┼──■──┼──■─\n",
              "      ├──────────┤       │     │  │ \n",
              "q0_3: ┤ RZ(θ[3]) ├───────■─────■──■─\n",
              "      └──────────┘                  "
            ]
          },
          "metadata": {
            "tags": []
          },
          "execution_count": 2
        }
      ]
    },
    {
      "cell_type": "code",
      "metadata": {
        "colab_type": "code",
        "id": "CjRUOuefA1Zm",
        "colab": {
          "base_uri": "https://localhost:8080/",
          "height": 169
        },
        "outputId": "1e7f3934-674d-40cd-d3f2-3f1291390c01"
      },
      "source": [
        "#build the odd blocks of quantum gates\n",
        "def oddgate(given_circuit, theta_list):\n",
        "    \n",
        "     #operate parmetrized Rx gates on each qbit\n",
        "    for i in range(given_circuit.num_qubits):\n",
        "        given_circuit.rx(theta_list[i],i)\n",
        "  \n",
        "    return given_circuit\n",
        "\n",
        "# visualize the random odd block\n",
        "print(\"Odd Gate::\")\n",
        "oddgate(QuantumCircuit(QuantumRegister(4)),theta).draw()"
      ],
      "execution_count": 3,
      "outputs": [
        {
          "output_type": "stream",
          "text": [
            "Odd Gate::\n"
          ],
          "name": "stdout"
        },
        {
          "output_type": "execute_result",
          "data": {
            "text/html": [
              "<pre style=\"word-wrap: normal;white-space: pre;background: #fff0;line-height: 1.1;font-family: &quot;Courier New&quot;,Courier,monospace\">      ┌──────────┐\n",
              "q1_0: ┤ RX(θ[0]) ├\n",
              "      ├──────────┤\n",
              "q1_1: ┤ RX(θ[1]) ├\n",
              "      ├──────────┤\n",
              "q1_2: ┤ RX(θ[2]) ├\n",
              "      ├──────────┤\n",
              "q1_3: ┤ RX(θ[3]) ├\n",
              "      └──────────┘</pre>"
            ],
            "text/plain": [
              "      ┌──────────┐\n",
              "q1_0: ┤ RX(θ[0]) ├\n",
              "      ├──────────┤\n",
              "q1_1: ┤ RX(θ[1]) ├\n",
              "      ├──────────┤\n",
              "q1_2: ┤ RX(θ[2]) ├\n",
              "      ├──────────┤\n",
              "q1_3: ┤ RX(θ[3]) ├\n",
              "      └──────────┘"
            ]
          },
          "metadata": {
            "tags": []
          },
          "execution_count": 3
        }
      ]
    },
    {
      "cell_type": "markdown",
      "metadata": {
        "colab_type": "text",
        "id": "NNtE0Eh_E-R5"
      },
      "source": [
        "Now we can build $L$ layers of quantum circuit:"
      ]
    },
    {
      "cell_type": "code",
      "metadata": {
        "colab_type": "code",
        "id": "uzYsR6l6jJ6p",
        "colab": {}
      },
      "source": [
        "#bulid L layers of odd and even blocks for a 4 qbit quantum circuit\n",
        "def get_var_form( parameters, L ):\n",
        "    #initiallize a quantm circuit with 4 qbits, and its parameters with respect to layer L\n",
        "    mycircuit = QuantumCircuit(QuantumRegister(4))\n",
        "    parameter = parameters.reshape((L,8))\n",
        "\n",
        "    #add L layers of odd and even blocks\n",
        "    for i in range(L):\n",
        "        oddgate(mycircuit, parameter[i][0:4])\n",
        "        mycircuit.barrier()\n",
        "        evengate(mycircuit, parameter[i][4:8])\n",
        "        mycircuit.barrier()\n",
        "    return mycircuit"
      ],
      "execution_count": 4,
      "outputs": []
    },
    {
      "cell_type": "markdown",
      "metadata": {
        "colab_type": "text",
        "id": "kS1KNHKTHT0o"
      },
      "source": [
        "## 3. Optimization of cost function(distance function) <a name=\"optimization\"></a>\n",
        "For a quantum circuit with parameters $\\vec{\\theta}$ and initial state $|0000>$, the distance between circuit output state $|\\psi(\\vec{\\theta})>$ and a given random state $|\\phi>$ is denoted by $$d(\\vec{\\theta}) = \\left \\| |\\psi(\\vec{\\theta})>-|\\phi>\\right\\|=\\sum_i||\\psi_i(\\vec{\\theta})>-|\\phi_i>|^2$$\n",
        "\n",
        "In the following we will define the distance function(or called cost function) $d(\\vec{\\theta})$ and  run the circuit in a statevector simulator from Qiskit to obtain the final state vector of our quantum circuit. The number of shots for quantum simulator is choosen to be 10000."
      ]
    },
    {
      "cell_type": "code",
      "metadata": {
        "colab_type": "code",
        "id": "DET7C-k2EGNB",
        "colab": {}
      },
      "source": [
        "from qiskit import Aer, execute\n",
        "NUM_SHOTS = 10000\n",
        "\n",
        "\n",
        "def cost_function(parameters):  \n",
        "    \n",
        "    L=int(len(parameters)/8)  # number of layers\n",
        "    \n",
        "    qc = get_var_form(parameters,L=L)  # define our quantum circuit\n",
        "\n",
        "    #get the final state using quantum simulator\n",
        "    final_state = execute(qc, Aer.get_backend(\"statevector_simulator\"), shots=NUM_SHOTS).result().get_statevector()\n",
        "\n",
        "    # calculate cost function\n",
        "    cost = sum([(final_state[i] - target_state[i])*np.conjugate(final_state[i] - target_state[i]) for i in range(2**4)])\n",
        "    return cost"
      ],
      "execution_count": null,
      "outputs": []
    },
    {
      "cell_type": "markdown",
      "metadata": {
        "colab_type": "text",
        "id": "nS994o2yNiDO"
      },
      "source": [
        "Now we can formulate the optimization problem to be finding the set of $\\theta$ to minize the cost function. We will be using an optimizer from package ```scipy``` to find the set of $\\theta$ which minimize the cost function for any given number of layers $L$. By increasing $L$ the minimum cost value $\\epsilon$ will decay and after some $L$ the $\\epsilon$ will become stable.\n",
        "\n",
        "* optimization method: ```CG``` (conjugate gradient algorithm )\n",
        "* Maximum number of function evaluations = 5000\n",
        "* Tolerance for termination = 0.0001\n",
        "\n",
        "The optimization result shows that with enough number of layers, this quantum circuit can mimic any given quantum state with very small distance.\n"
      ]
    },
    {
      "cell_type": "code",
      "metadata": {
        "colab_type": "code",
        "id": "7Lh4Oy1AO7k-",
        "colab": {}
      },
      "source": [
        "from scipy.optimize import  minimize\n",
        "import matplotlib.pyplot as plt\n",
        "\n",
        "# A function to give the optimization result for different cost function and max number of L\n",
        "def optimization_ouput(costfunction, maxL):\n",
        "    LayerArray=[x for x in range(1,maxL)]  #list of layers we will run\n",
        "    costArray=[]\n",
        "    for layer in LayerArray:\n",
        "        num_of_vars=8*layer\n",
        "        params=2*pi*np.random.rand(num_of_vars) #initialize parameters at random value in(0,2pi)\n",
        "\n",
        "        # optimization\n",
        "        ret=minimize(fun=costfunction,x0=params,method='CG',tol=0.0001,options={'maxiter':5000})\n",
        "        cost=ret.fun\n",
        "        costArray.append(cost)\n",
        "        print(\"Layer :: \",layer, \" Optimized cost::\", cost, \"  Success:\",ret.success)\n",
        "    print(\"Layer scan finished !!!!\")\n",
        "\n",
        "    plt.plot(LayerArray, costArray, label=\"min_cost vs. Layer\")\n",
        "    plt.xlabel('Number of Layer')\n",
        "    plt.ylabel('Minimum Distance')\n",
        "    plt.legend()\n",
        "    plt.show()\n",
        "    return None"
      ],
      "execution_count": null,
      "outputs": []
    },
    {
      "cell_type": "code",
      "metadata": {
        "id": "H2TlKo6Vc3HB",
        "colab_type": "code",
        "colab": {},
        "outputId": "0d2e9416-6277-4b23-f60e-54cceafe9f5a"
      },
      "source": [
        "optimization_ouput(cost_function,15)"
      ],
      "execution_count": null,
      "outputs": [
        {
          "output_type": "stream",
          "text": [
            "Layer ::  1  Optimized cost:: 0.6460487835817105   Success: True\n",
            "Layer ::  2  Optimized cost:: 0.1976422568954195   Success: True\n",
            "Layer ::  3  Optimized cost:: 0.0507001624799143   Success: True\n",
            "Layer ::  4  Optimized cost:: 1.1725426767445009e-06   Success: True\n",
            "Layer ::  5  Optimized cost:: 7.973481952083568e-07   Success: True\n",
            "Layer ::  6  Optimized cost:: 8.299334768870619e-08   Success: True\n",
            "Layer ::  7  Optimized cost:: 1.7686978997533652e-07   Success: True\n",
            "Layer ::  8  Optimized cost:: 1.3592431916785447e-07   Success: True\n",
            "Layer ::  9  Optimized cost:: 4.5715033391374634e-08   Success: True\n",
            "Layer ::  10  Optimized cost:: 8.601082704595355e-08   Success: True\n",
            "Layer ::  11  Optimized cost:: 8.51025055027391e-08   Success: True\n",
            "Layer ::  12  Optimized cost:: 3.00875062621598e-08   Success: True\n",
            "Layer ::  13  Optimized cost:: 2.5191712742855997e-08   Success: True\n",
            "Layer ::  14  Optimized cost:: 3.507570498824578e-08   Success: True\n",
            "Layer scan finished !!!!\n"
          ],
          "name": "stdout"
        },
        {
          "output_type": "display_data",
          "data": {
            "image/png": "[encoded data removed]",
            "text/plain": [
              "<Figure size 432x288 with 1 Axes>"
            ]
          },
          "metadata": {
            "tags": [],
            "needs_background": "light"
          }
        }
      ]
    },
    {
      "cell_type": "markdown",
      "metadata": {
        "colab_type": "text",
        "id": "5gwoxF7nGhv9"
      },
      "source": [
        "The minimum distance becomes stable after $L=4$."
      ]
    },
    {
      "cell_type": "markdown",
      "metadata": {
        "colab_type": "text",
        "id": "_Faj-DkbYZ4a"
      },
      "source": [
        "# 4. Try other parametrized gates. <a name=\"bonus\"></a>"
      ]
    },
    {
      "cell_type": "markdown",
      "metadata": {
        "colab_type": "text",
        "id": "2HNzA9xMCa3M"
      },
      "source": [
        "Now we will modify the odd blocks while keeping even blocks to be the same. The new oddblocks are parametrized $R_y$ gates operate on each qbit. "
      ]
    },
    {
      "cell_type": "code",
      "metadata": {
        "colab_type": "code",
        "id": "mYXHZywtC5Uw",
        "colab": {
          "base_uri": "https://localhost:8080/",
          "height": 169
        },
        "outputId": "73e79094-ec98-4955-ada8-c1cf2173117e"
      },
      "source": [
        "#build the odd blocks of quantum gates\n",
        "def oddgate_new(given_circuit, theta_list):\n",
        "    \n",
        "     #operate parmetrized Rx gates on each qbit\n",
        "    for i in range(given_circuit.num_qubits):\n",
        "        given_circuit.ry(theta_list[i],i)\n",
        "  \n",
        "    return given_circuit\n",
        "\n",
        "\n",
        "# visualize the random odd block\n",
        "print(\"New odd gate\")\n",
        "oddgate_new(QuantumCircuit(QuantumRegister(4)),theta).draw()"
      ],
      "execution_count": 5,
      "outputs": [
        {
          "output_type": "stream",
          "text": [
            "New odd gate\n"
          ],
          "name": "stdout"
        },
        {
          "output_type": "execute_result",
          "data": {
            "text/html": [
              "<pre style=\"word-wrap: normal;white-space: pre;background: #fff0;line-height: 1.1;font-family: &quot;Courier New&quot;,Courier,monospace\">      ┌──────────┐\n",
              "q2_0: ┤ RY(θ[0]) ├\n",
              "      ├──────────┤\n",
              "q2_1: ┤ RY(θ[1]) ├\n",
              "      ├──────────┤\n",
              "q2_2: ┤ RY(θ[2]) ├\n",
              "      ├──────────┤\n",
              "q2_3: ┤ RY(θ[3]) ├\n",
              "      └──────────┘</pre>"
            ],
            "text/plain": [
              "      ┌──────────┐\n",
              "q2_0: ┤ RY(θ[0]) ├\n",
              "      ├──────────┤\n",
              "q2_1: ┤ RY(θ[1]) ├\n",
              "      ├──────────┤\n",
              "q2_2: ┤ RY(θ[2]) ├\n",
              "      ├──────────┤\n",
              "q2_3: ┤ RY(θ[3]) ├\n",
              "      └──────────┘"
            ]
          },
          "metadata": {
            "tags": []
          },
          "execution_count": 5
        }
      ]
    },
    {
      "cell_type": "markdown",
      "metadata": {
        "colab_type": "text",
        "id": "-02HSXZTDZQV"
      },
      "source": [
        "Optimization:"
      ]
    },
    {
      "cell_type": "code",
      "metadata": {
        "colab_type": "code",
        "id": "gcQSDPlOcKKv",
        "colab": {}
      },
      "source": [
        "#bulid L layers of odd and even blocks for a 4 qbit quantum circuit\n",
        "def get_var_form1( parameters, L ):\n",
        "    #initiallize a quantm circuit with 4 qbits, and its parameters with respect to layer L\n",
        "    mycircuit = QuantumCircuit(QuantumRegister(4))\n",
        "    parameter = parameters.reshape((L,8))\n",
        "\n",
        "    #add L layers of odd and even blocks\n",
        "    for i in range(L):\n",
        "        oddgate_new(mycircuit, parameter[i][0:4])\n",
        "        mycircuit.barrier()\n",
        "        evengate(mycircuit, parameter[i][4:8])\n",
        "        mycircuit.barrier()\n",
        "    return mycircuit\n",
        "\n",
        "\n",
        "def cost_function1(parameters):  \n",
        "    \n",
        "    L=int(len(parameters)/8)  # number of layers\n",
        "    \n",
        "    qc = get_var_form1(parameters,L=L)  # define our quantum circuit\n",
        "\n",
        "    #get the final state using quantum simulator\n",
        "    final_state = execute(qc, Aer.get_backend(\"statevector_simulator\"), shots=NUM_SHOTS).result().get_statevector()\n",
        "\n",
        "    # calculate cost function\n",
        "    cost = sum([(final_state[i] - target_state[i])*np.conjugate(final_state[i] - target_state[i]) for i in range(2**4)])\n",
        "    return cost"
      ],
      "execution_count": null,
      "outputs": []
    },
    {
      "cell_type": "code",
      "metadata": {
        "id": "_fItBa27c3HL",
        "colab_type": "code",
        "colab": {},
        "outputId": "8977d82a-5d9a-4cb8-8a44-a12a8c8783bb"
      },
      "source": [
        "optimization_ouput(cost_function1,15)"
      ],
      "execution_count": null,
      "outputs": [
        {
          "output_type": "stream",
          "text": [
            "Layer ::  1  Optimized cost:: 0.6129185199951553   Success: True\n",
            "Layer ::  2  Optimized cost:: 0.2305198755805217   Success: True\n",
            "Layer ::  3  Optimized cost:: 0.010523847488748433   Success: True\n",
            "Layer ::  4  Optimized cost:: 3.896195016350906e-05   Success: True\n",
            "Layer ::  5  Optimized cost:: 2.572957586117772e-07   Success: True\n",
            "Layer ::  6  Optimized cost:: 7.633956758801334e-08   Success: True\n",
            "Layer ::  7  Optimized cost:: 2.886527217438489e-07   Success: True\n",
            "Layer ::  8  Optimized cost:: 5.6521718366522066e-08   Success: True\n",
            "Layer ::  9  Optimized cost:: 5.80836366950584e-08   Success: True\n",
            "Layer ::  10  Optimized cost:: 5.5895618049294085e-08   Success: True\n",
            "Layer ::  11  Optimized cost:: 3.966130293872505e-08   Success: True\n",
            "Layer ::  12  Optimized cost:: 4.151331707277427e-08   Success: True\n",
            "Layer ::  13  Optimized cost:: 6.594277432030122e-08   Success: True\n",
            "Layer ::  14  Optimized cost:: 7.11172027478085e-08   Success: True\n",
            "Layer scan finished !!!!\n"
          ],
          "name": "stdout"
        },
        {
          "output_type": "display_data",
          "data": {
            "image/png": "[encoded data removed]",
            "text/plain": [
              "<Figure size 432x288 with 1 Axes>"
            ]
          },
          "metadata": {
            "tags": [],
            "needs_background": "light"
          }
        }
      ]
    },
    {
      "cell_type": "markdown",
      "metadata": {
        "colab_type": "text",
        "id": "eI1yWmhTGSoc"
      },
      "source": [
        "The minimum distance become stable after $L = 4$ which is the same as originial circuit."
      ]
    },
    {
      "cell_type": "markdown",
      "metadata": {
        "colab_type": "text",
        "id": "M95KAI4TGucE"
      },
      "source": [
        "# 5. Try different entanglement <a name=\"entanglement\"></a>\n",
        "\n",
        "In this section we will modify the even blocks and analysis the impact of entanglement.\n",
        "\n",
        "* We now apply ```CZ``` to only adjacent  qbits in a way similar to the linear entanglement form and visualize the even block."
      ]
    },
    {
      "cell_type": "code",
      "metadata": {
        "colab_type": "code",
        "id": "bSveJAVcHvKu",
        "colab": {
          "base_uri": "https://localhost:8080/",
          "height": 169
        },
        "outputId": "cedbe372-1414-4077-aee8-1b01e676806a"
      },
      "source": [
        "#build the even blocks of quantum gates\n",
        "def evengate_new(given_circuit, theta_list ):\n",
        "\n",
        "    #operate parmetrized Rz gates on each qbit\n",
        "    for i in range(given_circuit.num_qubits):\n",
        "        given_circuit.rz(theta_list[i],i)\n",
        "    \n",
        "    #operate CZ gates on nearest neighbour qbits\n",
        "    for i in range(given_circuit.num_qubits -1):\n",
        "        given_circuit.cz(i,i+1)\n",
        "\n",
        "    return given_circuit\n",
        "\n",
        "# visualize the random even block\n",
        "theta = ParameterVector('θ',length=4)\n",
        "print(\"New even blocks with linear entanglement\")\n",
        "evengate_new(QuantumCircuit(QuantumRegister(4)),theta).draw()"
      ],
      "execution_count": 6,
      "outputs": [
        {
          "output_type": "stream",
          "text": [
            "New even blocks with linear entanglement\n"
          ],
          "name": "stdout"
        },
        {
          "output_type": "execute_result",
          "data": {
            "text/html": [
              "<pre style=\"word-wrap: normal;white-space: pre;background: #fff0;line-height: 1.1;font-family: &quot;Courier New&quot;,Courier,monospace\">      ┌──────────┐         \n",
              "q3_0: ┤ RZ(θ[0]) ├─■───────\n",
              "      ├──────────┤ │       \n",
              "q3_1: ┤ RZ(θ[1]) ├─■──■────\n",
              "      ├──────────┤    │    \n",
              "q3_2: ┤ RZ(θ[2]) ├────■──■─\n",
              "      ├──────────┤       │ \n",
              "q3_3: ┤ RZ(θ[3]) ├───────■─\n",
              "      └──────────┘         </pre>"
            ],
            "text/plain": [
              "      ┌──────────┐         \n",
              "q3_0: ┤ RZ(θ[0]) ├─■───────\n",
              "      ├──────────┤ │       \n",
              "q3_1: ┤ RZ(θ[1]) ├─■──■────\n",
              "      ├──────────┤    │    \n",
              "q3_2: ┤ RZ(θ[2]) ├────■──■─\n",
              "      ├──────────┤       │ \n",
              "q3_3: ┤ RZ(θ[3]) ├───────■─\n",
              "      └──────────┘         "
            ]
          },
          "metadata": {
            "tags": []
          },
          "execution_count": 6
        }
      ]
    },
    {
      "cell_type": "code",
      "metadata": {
        "colab_type": "code",
        "id": "ugbOT3jOIEqQ",
        "colab": {
          "base_uri": "https://localhost:8080/",
          "height": 136
        },
        "outputId": "00fe2eb7-b410-49cd-bcd5-d0512830271a"
      },
      "source": [
        "#bulid L layers of odd and even blocks for a 4 qbit quantum circuit\n",
        "def get_var_form_entangle( parameters, L ):\n",
        "    #initiallize a quantm circuit with 4 qbits, and its parameters with respect to layer L\n",
        "    mycircuit = QuantumCircuit(QuantumRegister(4))\n",
        "    parameter = parameters.reshape((L,8))\n",
        "\n",
        "    #add L layers of odd and even blocks\n",
        "    for i in range(L):\n",
        "        oddgate(mycircuit, parameter[i][0:4])\n",
        "        mycircuit.barrier()\n",
        "        evengate_new(mycircuit, parameter[i][4:8])\n",
        "        mycircuit.barrier()\n",
        "    return mycircuit\n",
        "\n",
        "\n",
        "def cost_function_entangle(parameters):  \n",
        "    \n",
        "    L=int(len(parameters)/8)  # number of layers\n",
        "    \n",
        "    qc = get_var_form_entangle(parameters,L=L)  # define our quantum circuit\n",
        "\n",
        "    #get the final state using quantum simulator\n",
        "    final_state = execute(qc, Aer.get_backend(\"statevector_simulator\"), shots=NUM_SHOTS).result().get_statevector()\n",
        "\n",
        "    # calculate cost function\n",
        "    cost = sum([(final_state[i] - target_state[i])*np.conjugate(final_state[i] - target_state[i]) for i in range(2**4)])\n",
        "    return cost\n",
        "\n",
        "\n",
        "optimization_ouput(cost_function_entangle,10)"
      ],
      "execution_count": null,
      "outputs": [
        {
          "output_type": "stream",
          "text": [
            "Layer ::  1  Optimized cost:: 0.5767120630335654   Success: True\n",
            "Layer ::  2  Optimized cost:: 0.20585453797122497   Success: True\n",
            "Layer ::  3  Optimized cost:: 0.07227092622133015   Success: True\n",
            "Layer ::  4  Optimized cost:: 1.9302001915970238e-07   Success: True\n",
            "Layer ::  5  Optimized cost:: 1.5016476137039602e-07   Success: True\n",
            "Layer ::  6  Optimized cost:: 1.0070393372766267e-06   Success: True\n",
            "Layer ::  7  Optimized cost:: 6.428569639161236e-08   Success: True\n",
            "Layer ::  8  Optimized cost:: 7.369653655319114e-08   Success: True\n",
            "Layer ::  9  Optimized cost:: 5.901143961702016e-08   Success: True\n",
            "Layer scan finished !!!!\n"
          ],
          "name": "stdout"
        },
        {
          "output_type": "display_data",
          "data": {
            "image/png": "[encoded data removed]",
            "text/plain": [
              "<Figure size 432x288 with 1 Axes>"
            ]
          },
          "metadata": {
            "tags": [],
            "needs_background": "light"
          }
        }
      ]
    },
    {
      "cell_type": "markdown",
      "metadata": {
        "id": "v3KGpbX9c3HU",
        "colab_type": "text"
      },
      "source": [
        "The optimization result become stable after $L = 4$. \n",
        "\n",
        "***We can also try to use a parametrized gate with no entanglement.***"
      ]
    },
    {
      "cell_type": "code",
      "metadata": {
        "id": "iDAbVA-qc3HU",
        "colab_type": "code",
        "colab": {
          "base_uri": "https://localhost:8080/",
          "height": 169
        },
        "outputId": "08619838-a215-4c77-beb5-9ee536fa03f5"
      },
      "source": [
        "#build the even blocks of quantum gates\n",
        "def evengate_no(given_circuit, theta_list):\n",
        "\n",
        "    #operate parmetrized Rz gates on each qbit\n",
        "    for i in range(given_circuit.num_qubits):\n",
        "        given_circuit.rz(theta_list[i],i)\n",
        "    \n",
        "    return given_circuit\n",
        "\n",
        "# visualize the random even block\n",
        "theta = ParameterVector('θ',length=4)\n",
        "print(\"New even blocks with no entanglement\")\n",
        "evengate_no(QuantumCircuit(QuantumRegister(4)),theta).draw()"
      ],
      "execution_count": 7,
      "outputs": [
        {
          "output_type": "stream",
          "text": [
            "New even blocks with no entanglement\n"
          ],
          "name": "stdout"
        },
        {
          "output_type": "execute_result",
          "data": {
            "text/html": [
              "<pre style=\"word-wrap: normal;white-space: pre;background: #fff0;line-height: 1.1;font-family: &quot;Courier New&quot;,Courier,monospace\">      ┌──────────┐\n",
              "q4_0: ┤ RZ(θ[0]) ├\n",
              "      ├──────────┤\n",
              "q4_1: ┤ RZ(θ[1]) ├\n",
              "      ├──────────┤\n",
              "q4_2: ┤ RZ(θ[2]) ├\n",
              "      ├──────────┤\n",
              "q4_3: ┤ RZ(θ[3]) ├\n",
              "      └──────────┘</pre>"
            ],
            "text/plain": [
              "      ┌──────────┐\n",
              "q4_0: ┤ RZ(θ[0]) ├\n",
              "      ├──────────┤\n",
              "q4_1: ┤ RZ(θ[1]) ├\n",
              "      ├──────────┤\n",
              "q4_2: ┤ RZ(θ[2]) ├\n",
              "      ├──────────┤\n",
              "q4_3: ┤ RZ(θ[3]) ├\n",
              "      └──────────┘"
            ]
          },
          "metadata": {
            "tags": []
          },
          "execution_count": 7
        }
      ]
    },
    {
      "cell_type": "code",
      "metadata": {
        "id": "5QkPf-jWc3HX",
        "colab_type": "code",
        "colab": {},
        "outputId": "d9b757aa-fa8d-41de-d0fd-d0af45316ec5"
      },
      "source": [
        "#bulid L layers of odd and even blocks for a 4 qbit quantum circuit\n",
        "def get_var_form_noentangle( parameters, L ):\n",
        "    #initiallize a quantm circuit with 4 qbits, and its parameters with respect to layer L\n",
        "    mycircuit = QuantumCircuit(QuantumRegister(4))\n",
        "    parameter = parameters.reshape((L,8))\n",
        "\n",
        "    #add L layers of odd and even blocks\n",
        "    for i in range(L):\n",
        "        oddgate(mycircuit, parameter[i][0:4])\n",
        "        mycircuit.barrier()\n",
        "        evengate_no(mycircuit, parameter[i][4:8])\n",
        "        mycircuit.barrier()\n",
        "    return mycircuit\n",
        "\n",
        "\n",
        "def cost_function_noentangle(parameters):  \n",
        "    \n",
        "    L=int(len(parameters)/8)  # number of layers\n",
        "    \n",
        "    qc = get_var_form_noentangle(parameters,L=L)  # define our quantum circuit\n",
        "\n",
        "    #get the final state using quantum simulator\n",
        "    final_state = execute(qc, Aer.get_backend(\"statevector_simulator\"), shots=NUM_SHOTS).result().get_statevector()\n",
        "\n",
        "    # calculate cost function\n",
        "    cost = sum([(final_state[i] - target_state[i])*np.conjugate(final_state[i] - target_state[i]) for i in range(2**4)])\n",
        "    return cost\n",
        "\n",
        "\n",
        "optimization_ouput(cost_function_noentangle,10)"
      ],
      "execution_count": null,
      "outputs": [
        {
          "output_type": "stream",
          "text": [
            "Layer ::  1  Optimized cost:: 0.5411382055218769   Success: True\n",
            "Layer ::  2  Optimized cost:: 0.5376931106663716   Success: True\n",
            "Layer ::  3  Optimized cost:: 0.5376931171951096   Success: True\n",
            "Layer ::  4  Optimized cost:: 0.5376931358262944   Success: True\n",
            "Layer ::  5  Optimized cost:: 0.5376930993465089   Success: True\n",
            "Layer ::  6  Optimized cost:: 0.5376931261362732   Success: True\n",
            "Layer ::  7  Optimized cost:: 0.5376931076120048   Success: True\n",
            "Layer ::  8  Optimized cost:: 0.5376931267585064   Success: True\n",
            "Layer ::  9  Optimized cost:: 0.5376930970161466   Success: True\n",
            "Layer scan finished !!!!\n"
          ],
          "name": "stdout"
        },
        {
          "output_type": "display_data",
          "data": {
            "image/png": "[encoded data removed]",
            "text/plain": [
              "<Figure size 432x288 with 1 Axes>"
            ]
          },
          "metadata": {
            "tags": [],
            "needs_background": "light"
          }
        }
      ]
    },
    {
      "cell_type": "markdown",
      "metadata": {
        "id": "2hDLMVcWc3Ha",
        "colab_type": "text"
      },
      "source": [
        "When there is no entanglment between qbits, the optimization is unstable with a very large error, which indicate this circuit cannot mimic any given random state. "
      ]
    }
  ]
}